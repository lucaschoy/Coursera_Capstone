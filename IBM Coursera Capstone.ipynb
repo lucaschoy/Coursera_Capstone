{
    "cells": [
        {
            "cell_type": "markdown",
            "metadata": {
                "collapsed": true
            },
            "source": "# IBM Coursera Capstone Project"
        },
        {
            "cell_type": "markdown",
            "metadata": {},
            "source": "## 1) Introduction/Business Problem"
        },
        {
            "cell_type": "markdown",
            "metadata": {},
            "source": "The client is looking to startup a new line of cafes in Singapore and would like to find a good part of the country to setup the first location. The amount of customers received directly affects the revenue earned and thus there is a need to judge the amount and level of competition of other cafes or similar shops in the area. "
        },
        {
            "cell_type": "markdown",
            "metadata": {},
            "source": "## 2)  Data"
        },
        {
            "cell_type": "markdown",
            "metadata": {},
            "source": "The data source for location data and nearby venues will be from foursquare. The coordinates of startup locations in singapore would be required as well as the number of similar venues to cafes closeby to account for the amount of competition. Additionally, number of checkins and ratings will also be used to judge the level of competition. population density data from the department of statistics Singapore will also be used to compare the potential customers in each region."
        },
        {
            "cell_type": "code",
            "execution_count": null,
            "metadata": {},
            "outputs": [],
            "source": ""
        }
    ],
    "metadata": {
        "kernelspec": {
            "display_name": "Python 3.6",
            "language": "python",
            "name": "python3"
        },
        "language_info": {
            "codemirror_mode": {
                "name": "ipython",
                "version": 3
            },
            "file_extension": ".py",
            "mimetype": "text/x-python",
            "name": "python",
            "nbconvert_exporter": "python",
            "pygments_lexer": "ipython3",
            "version": "3.6.9"
        }
    },
    "nbformat": 4,
    "nbformat_minor": 1
}